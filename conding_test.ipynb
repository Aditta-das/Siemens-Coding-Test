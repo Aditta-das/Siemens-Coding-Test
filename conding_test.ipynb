{
 "cells": [
  {
   "cell_type": "markdown",
   "id": "674d6397-3bd2-4ea2-97b1-0f711ec47793",
   "metadata": {
    "tags": []
   },
   "source": [
    "# Aditta Das Nishad\n",
    "\n",
    "[Linkedin](https://www.linkedin.com/in/aditta-das/) | [GMAIL](nishad009adi@gmail.com)"
   ]
  },
  {
   "cell_type": "markdown",
   "id": "a761ab63-d481-45e9-9f85-2f39ca844f92",
   "metadata": {},
   "source": [
    "# Ques no 1."
   ]
  },
  {
   "cell_type": "code",
   "execution_count": 1,
   "id": "904ca066-6d18-4b5d-a35f-37f344d22a5a",
   "metadata": {},
   "outputs": [
    {
     "data": {
      "text/plain": [
       "'approximation change when x changes 2 to 100 : -24.5'"
      ]
     },
     "execution_count": 1,
     "metadata": {},
     "output_type": "execute_result"
    }
   ],
   "source": [
    "def approx_change(f, t):\n",
    "    '''\n",
    "    f : from\n",
    "    t : to\n",
    "    we have to find del y\n",
    "    '''\n",
    "    x = f\n",
    "    y = 1 / x ** 2\n",
    "    diff = t - f\n",
    "    '''\n",
    "    y = dy/dx * diff\n",
    "    y = d(x^-2)/dx * diff\n",
    "    y = -2 * (x**-3) * diff\n",
    "    '''\n",
    "    approx = -2 * x ** (-3) * diff\n",
    "    return f\"approximation change when x changes {f} to {t} : {approx}\"\n",
    "\n",
    "approx_change(2, 100)"
   ]
  },
  {
   "cell_type": "markdown",
   "id": "3b6d749f-7b32-473d-8b37-2f7bc9d45e57",
   "metadata": {},
   "source": [
    "# Ques no 2."
   ]
  },
  {
   "cell_type": "code",
   "execution_count": 2,
   "id": "e51bd32e-90b2-4b5f-b16e-84fa8e191bcd",
   "metadata": {},
   "outputs": [],
   "source": [
    "def denom():\n",
    "    total_amount = 590\n",
    "    '''\n",
    "        50 : 20 = 3 : 5\n",
    "        50 -> 50 * 3 * x = 150x\n",
    "        20 -> 20 * 5 * x = 100x\n",
    "        10 -> 10 * (25 - (3x + 5x)) = 250 - 80x\n",
    "        150x + 100x + 250 - 80x = 590\n",
    "        x = 2\n",
    "    '''\n",
    "    x = 0\n",
    "    while (150 * x + 100 * x + 250 - 80 * x) != total_amount:\n",
    "        x += 1\n",
    "    return f\"50 notes -> {5*x} \\\n",
    "            20 notes -> {3*x} \\\n",
    "            10 notes -> {25 - (5*x + 3*x)}\"\n",
    "if __name__ == \"__main__\":\n",
    "    denom()"
   ]
  },
  {
   "cell_type": "markdown",
   "id": "81ffd3d1-3d71-4ae7-a16c-f3197899d4fb",
   "metadata": {},
   "source": [
    "# Ques 3."
   ]
  },
  {
   "cell_type": "code",
   "execution_count": 3,
   "id": "989ef156-5193-46ca-8100-1258f976a5a1",
   "metadata": {},
   "outputs": [],
   "source": [
    "def winner():\n",
    "    '''\n",
    "    total participant = x\n",
    "    not winner = 63 - x\n",
    "    not winner prize = 25 * (63 - x)\n",
    "    winner prize = 100 * x\n",
    "    so, 100 * x + 25 * (63 - x) = 3000\n",
    "    '''\n",
    "    prize_money = 3000\n",
    "    x = 0\n",
    "    while 100 * x + 25 * (63 - x) != prize_money:\n",
    "        x += 1\n",
    "    return f\"number of winner > {x}\"\n",
    "\n",
    "if __name__ == \"__main__\":\n",
    "    winner()"
   ]
  },
  {
   "cell_type": "markdown",
   "id": "9a0b7ccd-cb5b-4f46-ae55-681cec670d72",
   "metadata": {},
   "source": [
    "# Ques 4"
   ]
  },
  {
   "cell_type": "code",
   "execution_count": 4,
   "id": "3f380492-cd6f-4a64-8e49-68e5380dbb21",
   "metadata": {
    "tags": []
   },
   "outputs": [
    {
     "name": "stdout",
     "output_type": "stream",
     "text": [
      "first multiple 10 >> second multiple 121 >> third multiple 132\n"
     ]
    }
   ],
   "source": [
    "# 11(x + (x + 1) + (x + 2)) = 363\n",
    "x = 0\n",
    "while 11 * (x + (x + 1) + (x + 2)) != 363:\n",
    "    x += 1\n",
    "print(f\"first multiple {x} >> second multiple {11 * x + 11} >> third multiple {11 * x + 22}\")"
   ]
  },
  {
   "cell_type": "markdown",
   "id": "50f8242a-be11-4d4b-8382-d189243253ed",
   "metadata": {},
   "source": [
    "# Ques 5."
   ]
  },
  {
   "cell_type": "code",
   "execution_count": 5,
   "id": "9d13fc68-0650-46f0-b28e-74f7e43d4a96",
   "metadata": {},
   "outputs": [
    {
     "name": "stdout",
     "output_type": "stream",
     "text": [
      "Required number >> (5, 8)\n",
      "Required number >> (8, 5)\n"
     ]
    }
   ],
   "source": [
    "'''\n",
    "Let, the digit = 10a + b\n",
    "a + b = 3\n",
    "interchange b - a = 3\n",
    "\n",
    "10a + b + 10b + a = 143\n",
    "'''\n",
    "for a in range(1, 99):\n",
    "    for b in range(1, 99):\n",
    "        eqn = (10 * a) + b + (10 * b) + a\n",
    "        if eqn == 143 and abs(a - b) == 3:\n",
    "            print(f\"Required number >> {a, b}\")"
   ]
  },
  {
   "cell_type": "markdown",
   "id": "b62e1775-0f7e-44f8-9b78-b8624dffb62e",
   "metadata": {},
   "source": [
    "# Ques 6."
   ]
  },
  {
   "cell_type": "code",
   "execution_count": 6,
   "id": "1ef577eb-826c-4b8a-8213-49a9adfaaae2",
   "metadata": {
    "tags": []
   },
   "outputs": [
    {
     "name": "stdout",
     "output_type": "stream",
     "text": [
      "Epoch: 0 Epoch Loss 0.507631242275238\n",
      "Epoch: 1 Epoch Loss 0.018711579963564873\n",
      "Epoch: 2 Epoch Loss 0.010635670274496078\n",
      "Epoch: 3 Epoch Loss 0.008126656524837017\n",
      "Epoch: 4 Epoch Loss 0.1358426809310913\n",
      "Epoch: 5 Epoch Loss 0.028630556538701057\n",
      "Epoch: 6 Epoch Loss 0.07222358882427216\n",
      "Epoch: 7 Epoch Loss 0.006377881858497858\n",
      "Epoch: 8 Epoch Loss 0.008542797528207302\n",
      "Epoch: 9 Epoch Loss 0.11568247526884079\n"
     ]
    }
   ],
   "source": [
    "# 5x - 2(2x - 7) = 2(3x - 1) + 7/2\n",
    "import torch\n",
    "import torch.nn as nn\n",
    "from torch import Tensor\n",
    "from torch.nn import Linear, MSELoss, functional as F\n",
    "from torch.optim import SGD\n",
    "from torch.autograd import Variable\n",
    "import numpy as np\n",
    "\n",
    "def data_generation(data_size=50):\n",
    "    inputs = []\n",
    "    labels = []\n",
    "    for ix in range(data_size):\n",
    "        x = np.random.randint(1000) / 1000\n",
    "        y = 5*x - 2*(2*x - 7)\n",
    "        inputs.append([x])\n",
    "        labels.append([y])\n",
    "    return inputs, labels\n",
    "\n",
    "class Net(nn.Module):\n",
    "    def __init__(self):\n",
    "        super(Net, self).__init__()\n",
    "        self.fc1 = Linear(1, 6)\n",
    "        self.fc2 = Linear(6, 6)\n",
    "        self.fc3 = Linear(6, 1)\n",
    "    def forward(self, x):\n",
    "        x = F.dropout(F.relu(self.fc1(x)), p=0.5)\n",
    "        x = F.relu(self.fc2(x))\n",
    "        x = self.fc3(x)\n",
    "        return x\n",
    "    \n",
    "model = Net()\n",
    "criterion = MSELoss()\n",
    "optimizer = SGD(model.parameters(), lr=0.01)\n",
    "\n",
    "epochs = 10\n",
    "data_size = 1000\n",
    "for epoch in range(epochs):\n",
    "    X, y = data_generation(data_size)\n",
    "    epoch_loss = 0\n",
    "    for ix in range(data_size):\n",
    "        y_pred = model(Variable(Tensor(X[ix])))\n",
    "        loss = criterion(y_pred, Variable(Tensor(y[ix]), requires_grad=False))\n",
    "        epoch_loss = loss.data\n",
    "        optimizer.zero_grad()\n",
    "        loss.backward()\n",
    "        optimizer.step()\n",
    "    print(f\"Epoch: {epoch} Epoch Loss {epoch_loss}\")"
   ]
  },
  {
   "cell_type": "code",
   "execution_count": 7,
   "id": "b56ff842-8578-42e8-95b1-bfeaee2e5e09",
   "metadata": {},
   "outputs": [
    {
     "name": "stdout",
     "output_type": "stream",
     "text": [
      "Prediction: 14.692886352539062\n",
      "RHS: 89.65731811523438\n",
      "Expected: [14.582]\n"
     ]
    }
   ],
   "source": [
    "model.eval()\n",
    "test_data = data_generation(1)\n",
    "prediction = model(Variable(Tensor(test_data[0][0])))\n",
    "eqn = 2 * (3 * prediction.data[0] - 1) + 7/2\n",
    "print(\"Prediction: {}\".format(prediction.data[0]))\n",
    "print(f\"RHS: {eqn}\")\n",
    "print(\"Expected: {}\".format(test_data[1][0]))"
   ]
  },
  {
   "cell_type": "markdown",
   "id": "b147eb88-050e-4bcc-8c6d-d397e0485d3c",
   "metadata": {
    "tags": []
   },
   "source": [
    "# Ques 7."
   ]
  },
  {
   "cell_type": "code",
   "execution_count": 8,
   "id": "2dc40be9-11cd-4dc9-a9e6-9537d886d049",
   "metadata": {},
   "outputs": [
    {
     "name": "stdout",
     "output_type": "stream",
     "text": [
      "The solution are 1.0 and -2.0\n",
      "Area of region: -4.5\n"
     ]
    }
   ],
   "source": [
    "'''\n",
    "parabola : y^2 = x\n",
    "line : x + y = 2\n",
    "x = 2 - y\n",
    "we get, \n",
    "y^2 = 2-y\n",
    "y^2 + y -2 = 0\n",
    "(y-1)(y+2) = 0\n",
    "y = 1, -2\n",
    "\n",
    "|((2 - y)-y^2)|upper limit = 1, lower limit = -2\n",
    "ans : - 4.5\n",
    "'''\n",
    "import math\n",
    "from scipy.integrate import quad\n",
    "\n",
    "a = 1\n",
    "b = 1\n",
    "c = -2\n",
    "\n",
    "d = (b**2) - (4*a*c)\n",
    "\n",
    "# find two solutions\n",
    "sol1 = (-b+math.sqrt(d))/(2*a)\n",
    "sol2 = (-b-math.sqrt(d))/(2*a)\n",
    "\n",
    "print('The solution are {0} and {1}'.format(sol1,sol2))\n",
    "\n",
    "def f(y):\n",
    "    return ((2-y)-(y ** 2))\n",
    "\n",
    "res, _ = quad(f, sol1, sol2)\n",
    "print(f\"Area of region: {res}\")"
   ]
  },
  {
   "cell_type": "markdown",
   "id": "086aa1a5-1fb5-480f-8e35-e4483d7495de",
   "metadata": {},
   "source": [
    "# Ques 8."
   ]
  },
  {
   "cell_type": "code",
   "execution_count": 9,
   "id": "6e0b622c-1498-44c3-a657-77c674bcdf20",
   "metadata": {},
   "outputs": [
    {
     "name": "stdout",
     "output_type": "stream",
     "text": [
      "tensor([[10.0000],\n",
      "        [20.0000],\n",
      "        [ 3.0000]])\n",
      "tensor([[ 0.1214, -0.0221,  0.0057],\n",
      "        [ 0.0143,  0.0386, -0.0229],\n",
      "        [-0.0714,  0.0071,  0.0143]])\n"
     ]
    }
   ],
   "source": [
    "import torch\n",
    "'''\n",
    "10x + 5y + 4z = 212\n",
    "20x + 30y + 40z = 920\n",
    "40x + 10y + 70z = 810\n",
    "\n",
    "AX = B\n",
    "\n",
    "A = [[10, 5, 4], [20, 30, 40], [40, 10, 70]]\n",
    "B = [[212],\n",
    "     [920],\n",
    "     [810]]\n",
    "\n",
    "X = inv(A)B\n",
    "[[x],\n",
    " [y],\n",
    " [z]] = inv(A) B [matrix multiplication]\n",
    "'''\n",
    "A = torch.tensor(\n",
    "    [[10., 5., 4],\n",
    "    [20., 30., 40.],\n",
    "    [40., 10., 70.]])\n",
    "\n",
    "B = torch.tensor([[212, 920., 810.]]).t()\n",
    "inv_A = torch.inverse(A)\n",
    "values = torch.mm(inv_A, B)\n",
    "print(values)\n",
    "print(inv_A)"
   ]
  },
  {
   "cell_type": "markdown",
   "id": "9db75bac-769b-4428-bdb5-e2e0899b787d",
   "metadata": {},
   "source": [
    "# Ques 9."
   ]
  },
  {
   "cell_type": "code",
   "execution_count": 10,
   "id": "95af625f-8f1e-49b1-9062-977ad6798b73",
   "metadata": {},
   "outputs": [
    {
     "name": "stdout",
     "output_type": "stream",
     "text": [
      "Epoch: 0 Epoch Loss 0.01936989650130272\n",
      "Epoch: 1 Epoch Loss 0.4938403367996216\n",
      "Epoch: 2 Epoch Loss 0.2792728841304779\n",
      "Epoch: 3 Epoch Loss 0.0007642884156666696\n",
      "Epoch: 4 Epoch Loss 0.0005201702006161213\n",
      "Epoch: 5 Epoch Loss 0.0033895024098455906\n",
      "Epoch: 6 Epoch Loss 0.344544380903244\n",
      "Epoch: 7 Epoch Loss 6.837557157268748e-05\n",
      "Epoch: 8 Epoch Loss 0.0008969306945800781\n",
      "Epoch: 9 Epoch Loss 9.039325959747657e-05\n",
      "Epoch: 10 Epoch Loss 4.8384015826741233e-05\n",
      "Epoch: 11 Epoch Loss 1.3297780299126316e-07\n",
      "Epoch: 12 Epoch Loss 0.0050016832537949085\n",
      "Epoch: 13 Epoch Loss 0.39602747559547424\n",
      "Epoch: 14 Epoch Loss 0.00033109827199950814\n",
      "Epoch: 15 Epoch Loss 0.0011974913068115711\n",
      "Epoch: 16 Epoch Loss 0.005130088422447443\n",
      "Epoch: 17 Epoch Loss 0.0014414271572604775\n",
      "Epoch: 18 Epoch Loss 3.185028981533833e-05\n",
      "Epoch: 19 Epoch Loss 0.08893515914678574\n",
      "Epoch: 20 Epoch Loss 7.267585897352546e-05\n",
      "Epoch: 21 Epoch Loss 0.00373599911108613\n",
      "Epoch: 22 Epoch Loss 0.0035529339220374823\n",
      "Epoch: 23 Epoch Loss 3.4456719731679186e-05\n",
      "Epoch: 24 Epoch Loss 0.5541134476661682\n",
      "Epoch: 25 Epoch Loss 0.00010877077147597447\n",
      "Epoch: 26 Epoch Loss 8.45019894768484e-05\n",
      "Epoch: 27 Epoch Loss 0.0004768231592606753\n",
      "Epoch: 28 Epoch Loss 7.101977189449826e-06\n",
      "Epoch: 29 Epoch Loss 0.0011568701593205333\n",
      "Epoch: 30 Epoch Loss 0.004803658463060856\n",
      "Epoch: 31 Epoch Loss 0.07045882940292358\n",
      "Epoch: 32 Epoch Loss 1.654112566029653e-05\n",
      "Epoch: 33 Epoch Loss 0.1541871279478073\n",
      "Epoch: 34 Epoch Loss 0.17049111425876617\n",
      "Epoch: 35 Epoch Loss 0.0006678064237348735\n",
      "Epoch: 36 Epoch Loss 3.547741653164849e-05\n",
      "Epoch: 37 Epoch Loss 0.000298159196972847\n",
      "Epoch: 38 Epoch Loss 0.00042129005305469036\n",
      "Epoch: 39 Epoch Loss 7.174996426329017e-05\n",
      "Epoch: 40 Epoch Loss 0.09722957760095596\n",
      "Epoch: 41 Epoch Loss 1.7840906366473064e-05\n",
      "Epoch: 42 Epoch Loss 8.35066930449102e-06\n",
      "Epoch: 43 Epoch Loss 3.240216983613209e-06\n",
      "Epoch: 44 Epoch Loss 0.00015374450595118105\n",
      "Epoch: 45 Epoch Loss 5.9215290093561634e-06\n",
      "Epoch: 46 Epoch Loss 0.000359904341166839\n",
      "Epoch: 47 Epoch Loss 0.23290663957595825\n",
      "Epoch: 48 Epoch Loss 0.001076598884537816\n",
      "Epoch: 49 Epoch Loss 0.10499090701341629\n"
     ]
    }
   ],
   "source": [
    "# tan^-1(cosx/ 1-sinx) = (pi / 4 + x/2)\n",
    "import torch\n",
    "import torch.nn as nn\n",
    "from torch import Tensor\n",
    "from torch.nn import Linear, MSELoss, functional as F\n",
    "from torch.optim import SGD\n",
    "from torch.autograd import Variable\n",
    "import numpy as np\n",
    "import math, random\n",
    "\n",
    "def data_generation(data_size=50):\n",
    "    inputs = []\n",
    "    labels = []\n",
    "    for ix in range(data_size):\n",
    "        x = random.uniform(-math.pi/2, math.pi/2)\n",
    "        y = math.atan(math.cos(x) / (1 - math.sin(x)))\n",
    "        inputs.append([x])\n",
    "        labels.append([y])\n",
    "    return inputs, labels\n",
    "\n",
    "class Net(nn.Module):\n",
    "    def __init__(self):\n",
    "        super(Net, self).__init__()\n",
    "        self.fc1 = Linear(1, 6)\n",
    "        self.fc2 = Linear(6, 6)\n",
    "        self.fc3 = Linear(6, 1)\n",
    "    def forward(self, x):\n",
    "        x = F.dropout(F.relu(self.fc1(x)), p=0.5)\n",
    "        x = F.relu(self.fc2(x))\n",
    "        x = self.fc3(x)\n",
    "        return x\n",
    "    \n",
    "model = Net()\n",
    "criterion = MSELoss()\n",
    "optimizer = SGD(model.parameters(), lr=0.01)\n",
    "\n",
    "epochs = 50\n",
    "data_size = 1000\n",
    "for epoch in range(epochs):\n",
    "    X, y = data_generation(data_size)\n",
    "    epoch_loss = 0\n",
    "    for ix in range(data_size):\n",
    "        y_pred = model(Variable(Tensor(X[ix])))\n",
    "        loss = criterion(y_pred, Variable(Tensor(y[ix]), requires_grad=False))\n",
    "        epoch_loss = loss.data\n",
    "        optimizer.zero_grad()\n",
    "        loss.backward()\n",
    "        optimizer.step()\n",
    "    print(f\"Epoch: {epoch} Epoch Loss {epoch_loss}\")"
   ]
  },
  {
   "cell_type": "code",
   "execution_count": 11,
   "id": "82003705-1b14-4449-948e-79d186bd0dcc",
   "metadata": {},
   "outputs": [
    {
     "name": "stdout",
     "output_type": "stream",
     "text": [
      "Prediction: 1.0569953918457031\n",
      "RHS 1.3138959407806396\n",
      "Expected: [1.2799649312064756]\n"
     ]
    }
   ],
   "source": [
    "model.eval()\n",
    "test_data = data_generation(1)\n",
    "prediction = model(Variable(Tensor(test_data[0][0])))\n",
    "\n",
    "rhs = (math.pi / 4) + (prediction[0] / 2)\n",
    "\n",
    "print(\"Prediction: {}\".format(prediction.data[0]))\n",
    "print(f\"RHS {rhs}\")\n",
    "print(\"Expected: {}\".format(test_data[1][0]))"
   ]
  }
 ],
 "metadata": {
  "kernelspec": {
   "display_name": "Python 3 (ipykernel)",
   "language": "python",
   "name": "python3"
  },
  "language_info": {
   "codemirror_mode": {
    "name": "ipython",
    "version": 3
   },
   "file_extension": ".py",
   "mimetype": "text/x-python",
   "name": "python",
   "nbconvert_exporter": "python",
   "pygments_lexer": "ipython3",
   "version": "3.8.10"
  }
 },
 "nbformat": 4,
 "nbformat_minor": 5
}
